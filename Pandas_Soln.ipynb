{
  "nbformat": 4,
  "nbformat_minor": 0,
  "metadata": {
    "colab": {
      "name": "Pandas Soln.ipynb",
      "provenance": []
    },
    "kernelspec": {
      "name": "python3",
      "display_name": "Python 3"
    },
    "language_info": {
      "name": "python"
    }
  },
  "cells": [
    {
      "cell_type": "code",
      "execution_count": 46,
      "metadata": {
        "id": "6wJy7a6pSjWV"
      },
      "outputs": [],
      "source": [
        "import pandas as pd\n",
        "import numpy as np"
      ]
    },
    {
      "cell_type": "code",
      "source": [
        "data = pd.read_csv('/content/checkpoint - checkpoint.csv')\n",
        "\n",
        "data.head()"
      ],
      "metadata": {
        "colab": {
          "base_uri": "https://localhost:8080/",
          "height": 206
        },
        "id": "Swj7-EV7TNEr",
        "outputId": "2d8a5d0f-9bda-4865-8bb4-8440b719d8d2"
      },
      "execution_count": 47,
      "outputs": [
        {
          "output_type": "execute_result",
          "data": {
            "text/plain": [
              "    Company name          Status        Industry Salary-Cuts  \\\n",
              "0            1MG  Hiring freezes  Consumer Goods          No   \n",
              "1         6sense          Hiring             NaN          No   \n",
              "2  91springboard  Hiring freezes     Real Estate         Yes   \n",
              "3  91springboard         Layoffs     Real Estate         Yes   \n",
              "4         247.ai         Layoffs  Communications         Yes   \n",
              "\n",
              "              Location  \n",
              "0              Gurgaon  \n",
              "1       Pune,Bangalore  \n",
              "2                India  \n",
              "3                India  \n",
              "4  San Jose, Bangalore  "
            ],
            "text/html": [
              "\n",
              "  <div id=\"df-df757d37-3c91-44c3-aba5-a79c2885ef6e\">\n",
              "    <div class=\"colab-df-container\">\n",
              "      <div>\n",
              "<style scoped>\n",
              "    .dataframe tbody tr th:only-of-type {\n",
              "        vertical-align: middle;\n",
              "    }\n",
              "\n",
              "    .dataframe tbody tr th {\n",
              "        vertical-align: top;\n",
              "    }\n",
              "\n",
              "    .dataframe thead th {\n",
              "        text-align: right;\n",
              "    }\n",
              "</style>\n",
              "<table border=\"1\" class=\"dataframe\">\n",
              "  <thead>\n",
              "    <tr style=\"text-align: right;\">\n",
              "      <th></th>\n",
              "      <th>Company name</th>\n",
              "      <th>Status</th>\n",
              "      <th>Industry</th>\n",
              "      <th>Salary-Cuts</th>\n",
              "      <th>Location</th>\n",
              "    </tr>\n",
              "  </thead>\n",
              "  <tbody>\n",
              "    <tr>\n",
              "      <th>0</th>\n",
              "      <td>1MG</td>\n",
              "      <td>Hiring freezes</td>\n",
              "      <td>Consumer Goods</td>\n",
              "      <td>No</td>\n",
              "      <td>Gurgaon</td>\n",
              "    </tr>\n",
              "    <tr>\n",
              "      <th>1</th>\n",
              "      <td>6sense</td>\n",
              "      <td>Hiring</td>\n",
              "      <td>NaN</td>\n",
              "      <td>No</td>\n",
              "      <td>Pune,Bangalore</td>\n",
              "    </tr>\n",
              "    <tr>\n",
              "      <th>2</th>\n",
              "      <td>91springboard</td>\n",
              "      <td>Hiring freezes</td>\n",
              "      <td>Real Estate</td>\n",
              "      <td>Yes</td>\n",
              "      <td>India</td>\n",
              "    </tr>\n",
              "    <tr>\n",
              "      <th>3</th>\n",
              "      <td>91springboard</td>\n",
              "      <td>Layoffs</td>\n",
              "      <td>Real Estate</td>\n",
              "      <td>Yes</td>\n",
              "      <td>India</td>\n",
              "    </tr>\n",
              "    <tr>\n",
              "      <th>4</th>\n",
              "      <td>247.ai</td>\n",
              "      <td>Layoffs</td>\n",
              "      <td>Communications</td>\n",
              "      <td>Yes</td>\n",
              "      <td>San Jose, Bangalore</td>\n",
              "    </tr>\n",
              "  </tbody>\n",
              "</table>\n",
              "</div>\n",
              "      <button class=\"colab-df-convert\" onclick=\"convertToInteractive('df-df757d37-3c91-44c3-aba5-a79c2885ef6e')\"\n",
              "              title=\"Convert this dataframe to an interactive table.\"\n",
              "              style=\"display:none;\">\n",
              "        \n",
              "  <svg xmlns=\"http://www.w3.org/2000/svg\" height=\"24px\"viewBox=\"0 0 24 24\"\n",
              "       width=\"24px\">\n",
              "    <path d=\"M0 0h24v24H0V0z\" fill=\"none\"/>\n",
              "    <path d=\"M18.56 5.44l.94 2.06.94-2.06 2.06-.94-2.06-.94-.94-2.06-.94 2.06-2.06.94zm-11 1L8.5 8.5l.94-2.06 2.06-.94-2.06-.94L8.5 2.5l-.94 2.06-2.06.94zm10 10l.94 2.06.94-2.06 2.06-.94-2.06-.94-.94-2.06-.94 2.06-2.06.94z\"/><path d=\"M17.41 7.96l-1.37-1.37c-.4-.4-.92-.59-1.43-.59-.52 0-1.04.2-1.43.59L10.3 9.45l-7.72 7.72c-.78.78-.78 2.05 0 2.83L4 21.41c.39.39.9.59 1.41.59.51 0 1.02-.2 1.41-.59l7.78-7.78 2.81-2.81c.8-.78.8-2.07 0-2.86zM5.41 20L4 18.59l7.72-7.72 1.47 1.35L5.41 20z\"/>\n",
              "  </svg>\n",
              "      </button>\n",
              "      \n",
              "  <style>\n",
              "    .colab-df-container {\n",
              "      display:flex;\n",
              "      flex-wrap:wrap;\n",
              "      gap: 12px;\n",
              "    }\n",
              "\n",
              "    .colab-df-convert {\n",
              "      background-color: #E8F0FE;\n",
              "      border: none;\n",
              "      border-radius: 50%;\n",
              "      cursor: pointer;\n",
              "      display: none;\n",
              "      fill: #1967D2;\n",
              "      height: 32px;\n",
              "      padding: 0 0 0 0;\n",
              "      width: 32px;\n",
              "    }\n",
              "\n",
              "    .colab-df-convert:hover {\n",
              "      background-color: #E2EBFA;\n",
              "      box-shadow: 0px 1px 2px rgba(60, 64, 67, 0.3), 0px 1px 3px 1px rgba(60, 64, 67, 0.15);\n",
              "      fill: #174EA6;\n",
              "    }\n",
              "\n",
              "    [theme=dark] .colab-df-convert {\n",
              "      background-color: #3B4455;\n",
              "      fill: #D2E3FC;\n",
              "    }\n",
              "\n",
              "    [theme=dark] .colab-df-convert:hover {\n",
              "      background-color: #434B5C;\n",
              "      box-shadow: 0px 1px 3px 1px rgba(0, 0, 0, 0.15);\n",
              "      filter: drop-shadow(0px 1px 2px rgba(0, 0, 0, 0.3));\n",
              "      fill: #FFFFFF;\n",
              "    }\n",
              "  </style>\n",
              "\n",
              "      <script>\n",
              "        const buttonEl =\n",
              "          document.querySelector('#df-df757d37-3c91-44c3-aba5-a79c2885ef6e button.colab-df-convert');\n",
              "        buttonEl.style.display =\n",
              "          google.colab.kernel.accessAllowed ? 'block' : 'none';\n",
              "\n",
              "        async function convertToInteractive(key) {\n",
              "          const element = document.querySelector('#df-df757d37-3c91-44c3-aba5-a79c2885ef6e');\n",
              "          const dataTable =\n",
              "            await google.colab.kernel.invokeFunction('convertToInteractive',\n",
              "                                                     [key], {});\n",
              "          if (!dataTable) return;\n",
              "\n",
              "          const docLinkHtml = 'Like what you see? Visit the ' +\n",
              "            '<a target=\"_blank\" href=https://colab.research.google.com/notebooks/data_table.ipynb>data table notebook</a>'\n",
              "            + ' to learn more about interactive tables.';\n",
              "          element.innerHTML = '';\n",
              "          dataTable['output_type'] = 'display_data';\n",
              "          await google.colab.output.renderOutput(dataTable, element);\n",
              "          const docLink = document.createElement('div');\n",
              "          docLink.innerHTML = docLinkHtml;\n",
              "          element.appendChild(docLink);\n",
              "        }\n",
              "      </script>\n",
              "    </div>\n",
              "  </div>\n",
              "  "
            ]
          },
          "metadata": {},
          "execution_count": 47
        }
      ]
    },
    {
      "cell_type": "markdown",
      "source": [
        "Dataset contains information about layoff of salary due to COVID-19"
      ],
      "metadata": {
        "id": "MOxMEzFXUoWk"
      }
    },
    {
      "cell_type": "code",
      "source": [
        "data = data.replace(to_replace=np.nan,value='UNKNOWN')\n",
        "\n",
        "data.head()"
      ],
      "metadata": {
        "colab": {
          "base_uri": "https://localhost:8080/",
          "height": 206
        },
        "id": "jzbkgMnDTjGe",
        "outputId": "dd6e7c8c-2303-47d5-d036-6595ac324a82"
      },
      "execution_count": 48,
      "outputs": [
        {
          "output_type": "execute_result",
          "data": {
            "text/plain": [
              "    Company name          Status        Industry Salary-Cuts  \\\n",
              "0            1MG  Hiring freezes  Consumer Goods          No   \n",
              "1         6sense          Hiring         UNKNOWN          No   \n",
              "2  91springboard  Hiring freezes     Real Estate         Yes   \n",
              "3  91springboard         Layoffs     Real Estate         Yes   \n",
              "4         247.ai         Layoffs  Communications         Yes   \n",
              "\n",
              "              Location  \n",
              "0              Gurgaon  \n",
              "1       Pune,Bangalore  \n",
              "2                India  \n",
              "3                India  \n",
              "4  San Jose, Bangalore  "
            ],
            "text/html": [
              "\n",
              "  <div id=\"df-12409ddc-475f-477c-a050-1afa59df396b\">\n",
              "    <div class=\"colab-df-container\">\n",
              "      <div>\n",
              "<style scoped>\n",
              "    .dataframe tbody tr th:only-of-type {\n",
              "        vertical-align: middle;\n",
              "    }\n",
              "\n",
              "    .dataframe tbody tr th {\n",
              "        vertical-align: top;\n",
              "    }\n",
              "\n",
              "    .dataframe thead th {\n",
              "        text-align: right;\n",
              "    }\n",
              "</style>\n",
              "<table border=\"1\" class=\"dataframe\">\n",
              "  <thead>\n",
              "    <tr style=\"text-align: right;\">\n",
              "      <th></th>\n",
              "      <th>Company name</th>\n",
              "      <th>Status</th>\n",
              "      <th>Industry</th>\n",
              "      <th>Salary-Cuts</th>\n",
              "      <th>Location</th>\n",
              "    </tr>\n",
              "  </thead>\n",
              "  <tbody>\n",
              "    <tr>\n",
              "      <th>0</th>\n",
              "      <td>1MG</td>\n",
              "      <td>Hiring freezes</td>\n",
              "      <td>Consumer Goods</td>\n",
              "      <td>No</td>\n",
              "      <td>Gurgaon</td>\n",
              "    </tr>\n",
              "    <tr>\n",
              "      <th>1</th>\n",
              "      <td>6sense</td>\n",
              "      <td>Hiring</td>\n",
              "      <td>UNKNOWN</td>\n",
              "      <td>No</td>\n",
              "      <td>Pune,Bangalore</td>\n",
              "    </tr>\n",
              "    <tr>\n",
              "      <th>2</th>\n",
              "      <td>91springboard</td>\n",
              "      <td>Hiring freezes</td>\n",
              "      <td>Real Estate</td>\n",
              "      <td>Yes</td>\n",
              "      <td>India</td>\n",
              "    </tr>\n",
              "    <tr>\n",
              "      <th>3</th>\n",
              "      <td>91springboard</td>\n",
              "      <td>Layoffs</td>\n",
              "      <td>Real Estate</td>\n",
              "      <td>Yes</td>\n",
              "      <td>India</td>\n",
              "    </tr>\n",
              "    <tr>\n",
              "      <th>4</th>\n",
              "      <td>247.ai</td>\n",
              "      <td>Layoffs</td>\n",
              "      <td>Communications</td>\n",
              "      <td>Yes</td>\n",
              "      <td>San Jose, Bangalore</td>\n",
              "    </tr>\n",
              "  </tbody>\n",
              "</table>\n",
              "</div>\n",
              "      <button class=\"colab-df-convert\" onclick=\"convertToInteractive('df-12409ddc-475f-477c-a050-1afa59df396b')\"\n",
              "              title=\"Convert this dataframe to an interactive table.\"\n",
              "              style=\"display:none;\">\n",
              "        \n",
              "  <svg xmlns=\"http://www.w3.org/2000/svg\" height=\"24px\"viewBox=\"0 0 24 24\"\n",
              "       width=\"24px\">\n",
              "    <path d=\"M0 0h24v24H0V0z\" fill=\"none\"/>\n",
              "    <path d=\"M18.56 5.44l.94 2.06.94-2.06 2.06-.94-2.06-.94-.94-2.06-.94 2.06-2.06.94zm-11 1L8.5 8.5l.94-2.06 2.06-.94-2.06-.94L8.5 2.5l-.94 2.06-2.06.94zm10 10l.94 2.06.94-2.06 2.06-.94-2.06-.94-.94-2.06-.94 2.06-2.06.94z\"/><path d=\"M17.41 7.96l-1.37-1.37c-.4-.4-.92-.59-1.43-.59-.52 0-1.04.2-1.43.59L10.3 9.45l-7.72 7.72c-.78.78-.78 2.05 0 2.83L4 21.41c.39.39.9.59 1.41.59.51 0 1.02-.2 1.41-.59l7.78-7.78 2.81-2.81c.8-.78.8-2.07 0-2.86zM5.41 20L4 18.59l7.72-7.72 1.47 1.35L5.41 20z\"/>\n",
              "  </svg>\n",
              "      </button>\n",
              "      \n",
              "  <style>\n",
              "    .colab-df-container {\n",
              "      display:flex;\n",
              "      flex-wrap:wrap;\n",
              "      gap: 12px;\n",
              "    }\n",
              "\n",
              "    .colab-df-convert {\n",
              "      background-color: #E8F0FE;\n",
              "      border: none;\n",
              "      border-radius: 50%;\n",
              "      cursor: pointer;\n",
              "      display: none;\n",
              "      fill: #1967D2;\n",
              "      height: 32px;\n",
              "      padding: 0 0 0 0;\n",
              "      width: 32px;\n",
              "    }\n",
              "\n",
              "    .colab-df-convert:hover {\n",
              "      background-color: #E2EBFA;\n",
              "      box-shadow: 0px 1px 2px rgba(60, 64, 67, 0.3), 0px 1px 3px 1px rgba(60, 64, 67, 0.15);\n",
              "      fill: #174EA6;\n",
              "    }\n",
              "\n",
              "    [theme=dark] .colab-df-convert {\n",
              "      background-color: #3B4455;\n",
              "      fill: #D2E3FC;\n",
              "    }\n",
              "\n",
              "    [theme=dark] .colab-df-convert:hover {\n",
              "      background-color: #434B5C;\n",
              "      box-shadow: 0px 1px 3px 1px rgba(0, 0, 0, 0.15);\n",
              "      filter: drop-shadow(0px 1px 2px rgba(0, 0, 0, 0.3));\n",
              "      fill: #FFFFFF;\n",
              "    }\n",
              "  </style>\n",
              "\n",
              "      <script>\n",
              "        const buttonEl =\n",
              "          document.querySelector('#df-12409ddc-475f-477c-a050-1afa59df396b button.colab-df-convert');\n",
              "        buttonEl.style.display =\n",
              "          google.colab.kernel.accessAllowed ? 'block' : 'none';\n",
              "\n",
              "        async function convertToInteractive(key) {\n",
              "          const element = document.querySelector('#df-12409ddc-475f-477c-a050-1afa59df396b');\n",
              "          const dataTable =\n",
              "            await google.colab.kernel.invokeFunction('convertToInteractive',\n",
              "                                                     [key], {});\n",
              "          if (!dataTable) return;\n",
              "\n",
              "          const docLinkHtml = 'Like what you see? Visit the ' +\n",
              "            '<a target=\"_blank\" href=https://colab.research.google.com/notebooks/data_table.ipynb>data table notebook</a>'\n",
              "            + ' to learn more about interactive tables.';\n",
              "          element.innerHTML = '';\n",
              "          dataTable['output_type'] = 'display_data';\n",
              "          await google.colab.output.renderOutput(dataTable, element);\n",
              "          const docLink = document.createElement('div');\n",
              "          docLink.innerHTML = docLinkHtml;\n",
              "          element.appendChild(docLink);\n",
              "        }\n",
              "      </script>\n",
              "    </div>\n",
              "  </div>\n",
              "  "
            ]
          },
          "metadata": {},
          "execution_count": 48
        }
      ]
    },
    {
      "cell_type": "markdown",
      "source": [
        "Q1. What is the percentage of hiring in 'HelthCare' Industry?"
      ],
      "metadata": {
        "id": "oSRWD3sdU47L"
      }
    },
    {
      "cell_type": "code",
      "source": [
        "hiring_in_helthcare = len(data[(data['Industry'] == 'Healthcare') & (data['Status'] == 'Hiring')])\n",
        "total_in_helthcare = len(data[ (data['Industry'] == 'Healthcare')])\n",
        "industry_hiring_percentage = ( hiring_in_helthcare / total_in_helthcare) * 100\n",
        "industry_hiring_percentage"
      ],
      "metadata": {
        "colab": {
          "base_uri": "https://localhost:8080/"
        },
        "id": "Tdnoa8IHUYc7",
        "outputId": "96b2d738-4782-4801-8f20-b67b8676a5c6"
      },
      "execution_count": 49,
      "outputs": [
        {
          "output_type": "execute_result",
          "data": {
            "text/plain": [
              "43.13725490196079"
            ]
          },
          "metadata": {},
          "execution_count": 49
        }
      ]
    },
    {
      "cell_type": "markdown",
      "source": [
        "There is 43% hiring in Helthcare industry"
      ],
      "metadata": {
        "id": "omQMLm0ZXweB"
      }
    },
    {
      "cell_type": "markdown",
      "source": [
        "Q2. 'Real Estate' and 'Education Tech' out of these which have more % salary cuts?"
      ],
      "metadata": {
        "id": "qJZI0lcgX74q"
      }
    },
    {
      "cell_type": "code",
      "source": [
        "cuts_in_Real_Estate = (len(data[(data['Industry'] == 'Real Estate') & (data['Salary-Cuts'] == 'Yes')]) / len(data[(data['Industry'] == 'Real Estate')])) * 100 \n",
        "cuts_in_Education_Tech = (len(data[(data['Industry'] == 'Education Tech') & (data['Status'] == 'Layoffs')]) / len(data[(data['Industry'] == 'Education Tech')])) * 100\n",
        "\n",
        "if cuts_in_Education_Tech > cuts_in_Real_Estate:\n",
        "    print('Education Tech')\n",
        "else:\n",
        "    print(\"Real Estate\")"
      ],
      "metadata": {
        "colab": {
          "base_uri": "https://localhost:8080/"
        },
        "id": "VtCJQeM1XvcL",
        "outputId": "b797bca3-2f4a-41c5-b9d0-e641b0a92876"
      },
      "execution_count": 50,
      "outputs": [
        {
          "output_type": "stream",
          "name": "stdout",
          "text": [
            "Real Estate\n"
          ]
        }
      ]
    },
    {
      "cell_type": "markdown",
      "source": [
        "Real Estate ha more % of salary cuts than Education Tech"
      ],
      "metadata": {
        "id": "eyZc9dzvaIOZ"
      }
    },
    {
      "cell_type": "markdown",
      "source": [
        "Q3. company hich have locations in more then one city how much % off them having layoff ?"
      ],
      "metadata": {
        "id": "pyttIl1SdQTF"
      }
    },
    {
      "cell_type": "code",
      "source": [
        "more_then_one_location = data[data['Location'].str.contains(',')]\n",
        "\n",
        "layoff_percent = (len(more_then_one_location[more_then_one_location['Status'] == 'Layoffs']) / len(more_then_one_location)) * 100\n",
        "\n",
        "layoff_percent"
      ],
      "metadata": {
        "colab": {
          "base_uri": "https://localhost:8080/"
        },
        "id": "5AyDFglDaanm",
        "outputId": "2f554a69-0216-4cba-9624-dfe1f8de78af"
      },
      "execution_count": 51,
      "outputs": [
        {
          "output_type": "execute_result",
          "data": {
            "text/plain": [
              "14.473684210526317"
            ]
          },
          "metadata": {},
          "execution_count": 51
        }
      ]
    },
    {
      "cell_type": "markdown",
      "source": [
        "around 14.4 parcent company have layoff"
      ],
      "metadata": {
        "id": "wZKuTkEyeH-I"
      }
    },
    {
      "cell_type": "markdown",
      "source": [
        "Q4. which industry having more % of layoff?"
      ],
      "metadata": {
        "id": "lawlxJxJqU5o"
      }
    },
    {
      "cell_type": "code",
      "source": [
        "data['Industry'].values"
      ],
      "metadata": {
        "colab": {
          "base_uri": "https://localhost:8080/"
        },
        "id": "TsfbK2OWscG1",
        "outputId": "e840f66f-14e7-41b6-8e75-d32e5d1893d3"
      },
      "execution_count": 52,
      "outputs": [
        {
          "output_type": "execute_result",
          "data": {
            "text/plain": [
              "array(['Consumer Goods', 'UNKNOWN', 'Real Estate', ...,\n",
              "       'Consulting & Services', 'Business Software',\n",
              "       'Media & Entertainment'], dtype=object)"
            ]
          },
          "metadata": {},
          "execution_count": 52
        }
      ]
    },
    {
      "cell_type": "code",
      "source": [
        "# data['Industry'].values\n",
        "industry_layoff ={}\n",
        "for industry in data['Industry'].values:\n",
        "\n",
        "    industry_layoff[industry] = (len(data[(data['Industry'] == industry) & (data['Status'] == \"Layoffs\")]) / len(data[data['Industry'] == industry])) * 100"
      ],
      "metadata": {
        "id": "m3nQGJ-1eN1c"
      },
      "execution_count": 53,
      "outputs": []
    },
    {
      "cell_type": "code",
      "source": [
        "industry_layoff"
      ],
      "metadata": {
        "colab": {
          "base_uri": "https://localhost:8080/"
        },
        "id": "lP4dMZlGsCaJ",
        "outputId": "5c1b85d1-b037-438e-9ba8-9943e9824919"
      },
      "execution_count": 54,
      "outputs": [
        {
          "output_type": "execute_result",
          "data": {
            "text/plain": [
              "{'Automotive': 31.57894736842105,\n",
              " 'Business Software': 17.829457364341085,\n",
              " 'Communications': 22.22222222222222,\n",
              " 'Consulting & Services': 16.666666666666664,\n",
              " 'Consumer Goods': 13.953488372093023,\n",
              " 'Consumer Services': 21.428571428571427,\n",
              " 'Consumer Tech': 12.280701754385964,\n",
              " 'E-Commerce': 15.0,\n",
              " 'Education Tech': 18.96551724137931,\n",
              " 'Energy': 0.0,\n",
              " 'Financial Services': 16.0,\n",
              " 'Food & Dining': 6.25,\n",
              " 'HR Tech': 24.137931034482758,\n",
              " 'Healthcare': 27.450980392156865,\n",
              " 'Hospitality': 70.0,\n",
              " 'IT Infrastructure': 0.0,\n",
              " 'IT Infrastucture': 25.0,\n",
              " 'Information Technology': 10.714285714285714,\n",
              " 'Manufacturing': 7.6923076923076925,\n",
              " 'Marketing & Advertising': 18.75,\n",
              " 'Media & Entertainment': 21.62162162162162,\n",
              " 'Productivity Software': 16.666666666666664,\n",
              " 'Real Estate': 16.129032258064516,\n",
              " 'Retail': 14.285714285714285,\n",
              " 'Travel & Transportation': 36.144578313253014,\n",
              " 'UNKNOWN': 17.647058823529413,\n",
              " 'Venture Capital': 0.0,\n",
              " 'Venture Capitalist': 0.0}"
            ]
          },
          "metadata": {},
          "execution_count": 54
        }
      ]
    },
    {
      "cell_type": "markdown",
      "source": [
        "'Hospitality' industry has more layoff"
      ],
      "metadata": {
        "id": "AAsn8TpFtYBg"
      }
    },
    {
      "cell_type": "markdown",
      "source": [
        "Q5. Which of these cities have more % Hiring freezes ?\n",
        "\n"
      ],
      "metadata": {
        "id": "JLwFIWKOtm-1"
      }
    },
    {
      "cell_type": "code",
      "source": [
        "citys = ['Bangalore', 'Hyderabad', 'Mumbai', 'Delhi']\n",
        "\n",
        "hiring_freeze = {}\n",
        "\n",
        "for city in citys:\n",
        "    hiring_freeze[city] = (len(data[(data['Location'].str.contains(city)) & (data['Status'] == \"Hiring freezes\")]) / len(data[data['Location'].str.contains(city)])) * 100"
      ],
      "metadata": {
        "id": "EijzO9gdtWZn"
      },
      "execution_count": 59,
      "outputs": []
    },
    {
      "cell_type": "code",
      "source": [
        "hiring_freeze"
      ],
      "metadata": {
        "colab": {
          "base_uri": "https://localhost:8080/"
        },
        "id": "YMzwMMz7uvXR",
        "outputId": "485ac3f7-eb5a-4df6-defc-c4de70670fca"
      },
      "execution_count": 60,
      "outputs": [
        {
          "output_type": "execute_result",
          "data": {
            "text/plain": [
              "{'Bangalore': 28.46975088967972,\n",
              " 'Delhi': 30.76923076923077,\n",
              " 'Hyderabad': 31.372549019607842,\n",
              " 'Mumbai': 24.210526315789473}"
            ]
          },
          "metadata": {},
          "execution_count": 60
        }
      ]
    },
    {
      "cell_type": "markdown",
      "source": [
        "Hydrabad have more %  Hiring freezes."
      ],
      "metadata": {
        "id": "B4sTCvpTvTgt"
      }
    }
  ]
}